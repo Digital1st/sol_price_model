import yfinance as yf
import numpy as np
import pandas as pd
import matplotlib.pyplot as plt
from sklearn.preprocessing import MinMaxScaler
from tensorflow.keras.models import Sequential
from tensorflow.keras.layers import Conv1D, Dense, Dropout, Flatten
from tensorflow.keras.optimizers import Adam
from tensorflow.keras.callbacks import EarlyStopping

def fetch_sol_price_data(start_date="2023-11-24", end_date="2024-11-24", interval="1h"):
    df = yf.download("SOL-USD", start=start_date, end=end_date, interval=interval)
    return df

def preprocess_data(df, time_step=24):
    scaler = MinMaxScaler(feature_range=(0, 1))
    price_scaled = scaler.fit_transform(df[['Close']].values)

    X, y = [], []
    for i in range(len(price_scaled) - time_step):
        X.append(price_scaled[i:i + time_step])
        y.append(price_scaled[i + time_step])

    X, y = np.array(X), np.array(y)

    split_idx = int(len(X) * 0.8)
    X_train, X_test = X[:split_idx], X[split_idx:]
    y_train, y_test = y[:split_idx], y[split_idx:]

    return X_train, X_test, y_train, y_test, scaler

def build_tcn_model(input_shape):
    model = Sequential()
    model.add(Conv1D(64, 3, activation='relu', input_shape=input_shape))
    model.add(Dropout(0.2))
    model.add(Conv1D(128, 3, activation='relu'))
    model.add(Dropout(0.2))
    model.add(Conv1D(64, 3, activation='relu'))
    model.add(Flatten())
    model.add(Dense(1))
    model.compile(optimizer=Adam(learning_rate=0.001), loss='mean_squared_error')
    return model


def train_model(X_train, y_train, X_test, y_test):
    model = build_tcn_model(X_train.shape[1:])
    early_stopping = EarlyStopping(monitor='val_loss', patience=5, restore_best_weights=True)
    model.fit(X_train, y_train, epochs=50, batch_size=32, validation_data=(X_test, y_test), callbacks=[early_stopping])
    return model

def predict_price(model, X_test, scaler, future_hours=24):
    predictions = model.predict(X_test)

    predictions = predictions.reshape(-1, 1)  # Ensure 2D (samples, 1)
    predictions = scaler.inverse_transform(predictions)

    last_data_point = X_test[-1]
    future_predictions = []

    for _ in range(future_hours):
        pred = model.predict(last_data_point.reshape(1, -1, 1))
        future_predictions.append(pred)

        last_data_point = np.append(last_data_point[1:], pred, axis=0)

    future_predictions = np.array(future_predictions).reshape(-1, 1)
    future_predictions = scaler.inverse_transform(future_predictions)

    return future_predictions


df = fetch_sol_price_data()
print(df.head())

X_train, X_test, y_train, y_test, scaler = preprocess_data(df)

model = train_model(X_train, y_train, X_test, y_test)

future_hours = 24
predictions = predict_price(model, X_test, scaler, future_hours=future_hours)

plt.plot(predictions, label='Predicted Solana Prices')
plt.title(f"Predicted Solana Price for the next {future_hours} hours")
plt.xlabel("Hours")
plt.ylabel("Solana Price (USD)")
plt.legend()
plt.show()
